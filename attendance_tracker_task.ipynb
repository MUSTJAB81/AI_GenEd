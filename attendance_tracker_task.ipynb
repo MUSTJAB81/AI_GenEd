{
  "nbformat": 4,
  "nbformat_minor": 0,
  "metadata": {
    "colab": {
      "provenance": [],
      "authorship_tag": "ABX9TyPWFKP4ywpaeYmGZK5VzQwF",
      "include_colab_link": true
    },
    "kernelspec": {
      "name": "python3",
      "display_name": "Python 3"
    },
    "language_info": {
      "name": "python"
    }
  },
  "cells": [
    {
      "cell_type": "markdown",
      "metadata": {
        "id": "view-in-github",
        "colab_type": "text"
      },
      "source": [
        "<a href=\"https://colab.research.google.com/github/MUSTJAB81/AI_GenEd/blob/master/attendance_tracker_task.ipynb\" target=\"_parent\"><img src=\"https://colab.research.google.com/assets/colab-badge.svg\" alt=\"Open In Colab\"/></a>"
      ]
    },
    {
      "cell_type": "markdown",
      "source": [
        "\n",
        "# **Attendance Tracker**\n",
        "\n",
        "Track the attendance of students in a class for a week.\n",
        "\n",
        "The user enters the number of students and marks attendance (P for Present, A for Absent) for each day.\n",
        "\n",
        "Display the attendance summary at the end."
      ],
      "metadata": {
        "id": "Ml4g9Chk8tDI"
      }
    },
    {
      "cell_type": "code",
      "execution_count": null,
      "metadata": {
        "colab": {
          "base_uri": "https://localhost:8080/"
        },
        "id": "r8IvwOtp3Ns1",
        "outputId": "919fe23a-d697-4f03-e5ca-e5618235d657"
      },
      "outputs": [
        {
          "output_type": "stream",
          "name": "stdout",
          "text": [
            "Enter a number: 1\n",
            "\n",
            "Attendance for Student 1:\n",
            "  Day 1 (P/A): p\n",
            "  Day 2 (P/A): a\n",
            "  Day 3 (P/A): p\n",
            "  Day 4 (P/A): p\n",
            "  Day 5 (P/A): \n",
            "  Invalid input. Please enter 'P' for present or 'A' for absent.\n",
            "  Day 5 (P/A): p\n",
            "  Day 6 (P/A): p\n",
            "  Day 7 (P/A): p\n",
            "Total Present Days: 6\n",
            "Total Absent Days: 1\n"
          ]
        }
      ],
      "source": [
        "num_student = input(\"Enter a number: \")\n",
        "\n",
        "# Validate student number input\n",
        "while not num_student.isdigit():\n",
        "    print(\"That's not a valid number! Please try again.\")\n",
        "    num_student = input(\"Enter a number: \")\n",
        "\n",
        "num_student = int(num_student)  # Convert to integer after validation\n",
        "\n",
        "for student in range(1, num_student + 1):\n",
        "    print(f\"\\nAttendance for Student {student}:\")\n",
        "    attendance_count_present = 0\n",
        "    attendance_count_absent = 0\n",
        "\n",
        "    for day in range(1, 8):\n",
        "        while True:  # Loop until valid input is entered\n",
        "            attendance = input(f\"  Day {day} (P/A): \").strip().upper()\n",
        "            if attendance == \"P\":\n",
        "                attendance_count_present += 1\n",
        "                break  # Exit the loop if input is valid\n",
        "            elif attendance == \"A\":\n",
        "                attendance_count_absent += 1\n",
        "                break  # Exit the loop if input is valid\n",
        "            else:\n",
        "                print(\"  Invalid input. Please enter 'P' for present or 'A' for absent.\")\n",
        "\n",
        "    # Print results for the student after all days are entered\n",
        "    print(f\"Total Present Days: {attendance_count_present}\\nTotal Absent Days: {attendance_count_absent}\")\n"
      ]
    }
  ]
}