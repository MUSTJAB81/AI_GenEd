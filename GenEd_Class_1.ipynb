{
  "nbformat": 4,
  "nbformat_minor": 0,
  "metadata": {
    "colab": {
      "provenance": [],
      "authorship_tag": "ABX9TyNVhTmP1yWjWB2Ib53LDIQ0",
      "include_colab_link": true
    },
    "kernelspec": {
      "name": "python3",
      "display_name": "Python 3"
    },
    "language_info": {
      "name": "python"
    }
  },
  "cells": [
    {
      "cell_type": "markdown",
      "metadata": {
        "id": "view-in-github",
        "colab_type": "text"
      },
      "source": [
        "<a href=\"https://colab.research.google.com/github/MUSTJAB81/AI_GenEd/blob/master/GenEd_Class_1.ipynb\" target=\"_parent\"><img src=\"https://colab.research.google.com/assets/colab-badge.svg\" alt=\"Open In Colab\"/></a>"
      ]
    },
    {
      "cell_type": "markdown",
      "source": [
        "**What is Programing?**\n",
        "  \n",
        "  Program is the recipe that gives to the computer to conduct\n",
        "  \n",
        "  an automated task that human can do with extreme efforts and\n",
        "\n",
        "  some time can't do.\n",
        "\n",
        "**What is programming language?**\n",
        "\n",
        "The language that use to create recipe for computer that\n",
        "\n",
        "understand by computer is called \"Programming language\".\n",
        "\n",
        "(Java,Python,JavaScript,C++..etc)"
      ],
      "metadata": {
        "id": "L36YwMPG38jo"
      }
    },
    {
      "cell_type": "markdown",
      "source": [
        "**Python**\n",
        "\n",
        "**Topics**\n",
        "\n",
        "- print()\n",
        "- Data Types\n",
        "- Variables\n",
        "\n",
        "\n",
        "print() is the function to show something to user"
      ],
      "metadata": {
        "id": "nEBnGM277d1F"
      }
    },
    {
      "cell_type": "code",
      "source": [
        "# String\n",
        "print(\"This is Python Programming Language\")"
      ],
      "metadata": {
        "id": "ITGYfChN5gN4",
        "colab": {
          "base_uri": "https://localhost:8080/"
        },
        "outputId": "0ded8aeb-2821-4c4b-946c-2e733fda2974"
      },
      "execution_count": 1,
      "outputs": [
        {
          "output_type": "stream",
          "name": "stdout",
          "text": [
            "This is Python Programming Language\n"
          ]
        }
      ]
    },
    {
      "cell_type": "code",
      "source": [
        "# integer value\n",
        "print(34)"
      ],
      "metadata": {
        "colab": {
          "base_uri": "https://localhost:8080/"
        },
        "id": "lcLDP6MhDQq_",
        "outputId": "ca55c334-a421-4857-bb37-29be9dfe8cd0"
      },
      "execution_count": 2,
      "outputs": [
        {
          "output_type": "stream",
          "name": "stdout",
          "text": [
            "34\n"
          ]
        }
      ]
    },
    {
      "cell_type": "code",
      "source": [
        "# float value\n",
        "print(78.678)"
      ],
      "metadata": {
        "colab": {
          "base_uri": "https://localhost:8080/"
        },
        "id": "UhmUHfgCD3PI",
        "outputId": "04b21445-0616-4579-fa4c-5636be779f22"
      },
      "execution_count": 3,
      "outputs": [
        {
          "output_type": "stream",
          "name": "stdout",
          "text": [
            "78.678\n"
          ]
        }
      ]
    },
    {
      "cell_type": "code",
      "source": [
        "# Boolean\n",
        "print(True)"
      ],
      "metadata": {
        "colab": {
          "base_uri": "https://localhost:8080/"
        },
        "id": "QwoMTz5oEGA5",
        "outputId": "0ad9d276-c47a-4bca-9c62-5eaa0c9e93c3"
      },
      "execution_count": 4,
      "outputs": [
        {
          "output_type": "stream",
          "name": "stdout",
          "text": [
            "True\n"
          ]
        }
      ]
    },
    {
      "cell_type": "markdown",
      "source": [
        "Data Types\n",
        "\n",
        "--> Numaric (Integer, Float , Cmplex)\n",
        "\n",
        "--> Dictionary\n",
        "\n",
        "--> Boolean (True , False)\n",
        "\n",
        "--> Set\n",
        "\n",
        "--> Sequence (String , List ,Tuple)"
      ],
      "metadata": {
        "id": "Bgau0h-XEaD_"
      }
    },
    {
      "cell_type": "markdown",
      "source": [
        "**Numaric**"
      ],
      "metadata": {
        "id": "lWec_fitNArn"
      }
    },
    {
      "cell_type": "code",
      "source": [
        "# integer\n",
        "print(34)"
      ],
      "metadata": {
        "colab": {
          "base_uri": "https://localhost:8080/"
        },
        "id": "UBkL2pZtNDON",
        "outputId": "d4313f41-0e3f-4217-c5fb-e03378a81c35"
      },
      "execution_count": 5,
      "outputs": [
        {
          "output_type": "stream",
          "name": "stdout",
          "text": [
            "34\n"
          ]
        }
      ]
    },
    {
      "cell_type": "code",
      "source": [
        "# Float\n",
        "print(78.678)"
      ],
      "metadata": {
        "colab": {
          "base_uri": "https://localhost:8080/"
        },
        "id": "8L2Fxe5FNHPe",
        "outputId": "bb647a55-63a4-43bd-89c4-0c238fb1d380"
      },
      "execution_count": 6,
      "outputs": [
        {
          "output_type": "stream",
          "name": "stdout",
          "text": [
            "78.678\n"
          ]
        }
      ]
    },
    {
      "cell_type": "code",
      "source": [
        "# Complex\n",
        "print(3+4j)\n"
      ],
      "metadata": {
        "colab": {
          "base_uri": "https://localhost:8080/"
        },
        "id": "iDanJ2oBNJ9J",
        "outputId": "924e03da-1f57-4b0f-b2e1-f438825d33ef"
      },
      "execution_count": 7,
      "outputs": [
        {
          "output_type": "stream",
          "name": "stdout",
          "text": [
            "(3+4j)\n"
          ]
        }
      ]
    },
    {
      "cell_type": "markdown",
      "source": [
        "**String**"
      ],
      "metadata": {
        "id": "PluxpzAcNh8e"
      }
    },
    {
      "cell_type": "code",
      "source": [
        "# string in single court\n",
        "print('This is Python Programming Language')"
      ],
      "metadata": {
        "colab": {
          "base_uri": "https://localhost:8080/"
        },
        "id": "CwE9DFFtNjIT",
        "outputId": "bd8ae49e-20be-4637-a807-5cf63666e278"
      },
      "execution_count": 8,
      "outputs": [
        {
          "output_type": "stream",
          "name": "stdout",
          "text": [
            "This is Python Programming Language\n"
          ]
        }
      ]
    },
    {
      "cell_type": "code",
      "source": [
        "# string in double court\n",
        "print(\"This is Python Programming Language\")"
      ],
      "metadata": {
        "colab": {
          "base_uri": "https://localhost:8080/"
        },
        "id": "1077e0tQNvQr",
        "outputId": "f2e1f663-ee54-4c7a-863c-f8bde8bc9051"
      },
      "execution_count": 9,
      "outputs": [
        {
          "output_type": "stream",
          "name": "stdout",
          "text": [
            "This is Python Programming Language\n"
          ]
        }
      ]
    },
    {
      "cell_type": "code",
      "source": [
        "# string using variable\n",
        "message = \"This is Python Programming Language for bigginers.\"\n",
        "print(message)"
      ],
      "metadata": {
        "colab": {
          "base_uri": "https://localhost:8080/"
        },
        "id": "5Ce5fd9xN1Mu",
        "outputId": "42fde689-57bd-4766-93f0-f720c279de62"
      },
      "execution_count": 10,
      "outputs": [
        {
          "output_type": "stream",
          "name": "stdout",
          "text": [
            "This is Python Programming Language for bigginers.\n"
          ]
        }
      ]
    },
    {
      "cell_type": "markdown",
      "source": [
        "**Boolean**"
      ],
      "metadata": {
        "id": "CiZNyi8bOsMe"
      }
    },
    {
      "cell_type": "code",
      "source": [
        "# True\n",
        "print(True)\n"
      ],
      "metadata": {
        "colab": {
          "base_uri": "https://localhost:8080/"
        },
        "id": "M65zZvZyOvzO",
        "outputId": "76bd979a-8350-4afd-90cc-22e83d1631eb"
      },
      "execution_count": 11,
      "outputs": [
        {
          "output_type": "stream",
          "name": "stdout",
          "text": [
            "True\n"
          ]
        }
      ]
    },
    {
      "cell_type": "code",
      "source": [
        "# False\n",
        "print(False)"
      ],
      "metadata": {
        "colab": {
          "base_uri": "https://localhost:8080/"
        },
        "id": "NafjiGy3O06S",
        "outputId": "caa611bb-cab5-4810-dfd4-22126371102d"
      },
      "execution_count": 12,
      "outputs": [
        {
          "output_type": "stream",
          "name": "stdout",
          "text": [
            "False\n"
          ]
        }
      ]
    },
    {
      "cell_type": "markdown",
      "source": [
        "**Variable**\n",
        "\n",
        "Variables are conteners that have values of Any Data Type to\n",
        "\n",
        "reuse in our code.\n",
        "\n",
        "\n",
        "• Variable names can contain only letters, numbers, and underscores.They can start with a letter or an underscore, but not with a number.For instance, you can call a variable message_1 but not 1_message.\n",
        "\n",
        "• Spaces are not allowed in variable names, but underscores can be used to separate words in variable names. For example, greeting_message works,but greeting message will cause errors.\n",
        "\n",
        "• Avoid using Python keywords and function names as variable names;that is, do not use words that Python has reserved for a particular programmatic purpose, such as the word print.\n",
        "\n",
        "• Variable names should be short but descriptive. For example, name is better than n, student_name is better than s_n, and name_length is better than length_of_persons_name.\n",
        "\n",
        "• Be careful when using the lowercase letter l and the uppercase letter O because they could be confused with the numbers 1 and 0.\n",
        "\n"
      ],
      "metadata": {
        "id": "d1a5uqCSPjyz"
      }
    },
    {
      "cell_type": "code",
      "source": [
        "student_name = \"Ali\"\n",
        "print(student_name)"
      ],
      "metadata": {
        "colab": {
          "base_uri": "https://localhost:8080/"
        },
        "id": "BWiMWof1QitF",
        "outputId": "3e085e04-e228-49af-e79c-d5391718107a"
      },
      "execution_count": 13,
      "outputs": [
        {
          "output_type": "stream",
          "name": "stdout",
          "text": [
            "Ali\n"
          ]
        }
      ]
    },
    {
      "cell_type": "code",
      "source": [
        "# use triple court to print multiline string\n",
        "long_message = '''\n",
        "Variable\n",
        "\n",
        "Variables are conteners that have values of Any Data Type to\n",
        "\n",
        "reuse in our code.\n",
        "\n",
        "• Variable names can contain only letters, numbers, and underscores.They can start with a letter or an underscore, but not with a number.For instance, you can call a variable message_1 but not 1_message.\n",
        "\n",
        "• Spaces are not allowed in variable names, but underscores can be used to separate words in variable names. For example, greeting_message works,but greeting message will cause errors.\n",
        "\n",
        "• Avoid using Python keywords and function names as variable names;that is, do not use words that Python has reserved for a particular programmatic purpose, such as the word print.\n",
        "\n",
        "• Variable names should be short but descriptive. For example, name is better than n, student_name is better than s_n, and name_length is better than length_of_persons_name.\n",
        "\n",
        "• Be careful when using the lowercase letter l and the uppercase letter O because they could be confused with the numbers 1 and 0.\n",
        "'''"
      ],
      "metadata": {
        "id": "iSO_tlLiQrDB"
      },
      "execution_count": 14,
      "outputs": []
    },
    {
      "cell_type": "code",
      "source": [
        "print(long_message)"
      ],
      "metadata": {
        "colab": {
          "base_uri": "https://localhost:8080/"
        },
        "id": "al1T6MdUe9Hx",
        "outputId": "5535d6a1-a929-4339-ed3f-521f675f58bb"
      },
      "execution_count": 15,
      "outputs": [
        {
          "output_type": "stream",
          "name": "stdout",
          "text": [
            "\n",
            "Variable\n",
            "\n",
            "Variables are conteners that have values of Any Data Type to\n",
            "\n",
            "reuse in our code.\n",
            "\n",
            "• Variable names can contain only letters, numbers, and underscores.They can start with a letter or an underscore, but not with a number.For instance, you can call a variable message_1 but not 1_message.\n",
            "\n",
            "• Spaces are not allowed in variable names, but underscores can be used to separate words in variable names. For example, greeting_message works,but greeting message will cause errors.\n",
            "\n",
            "• Avoid using Python keywords and function names as variable names;that is, do not use words that Python has reserved for a particular programmatic purpose, such as the word print.\n",
            "\n",
            "• Variable names should be short but descriptive. For example, name is better than n, student_name is better than s_n, and name_length is better than length_of_persons_name.\n",
            "\n",
            "• Be careful when using the lowercase letter l and the uppercase letter O because they could be confused with the numbers 1 and 0.\n",
            "\n"
          ]
        }
      ]
    },
    {
      "cell_type": "code",
      "source": [
        "age = 44\n",
        "name = \"Ali\"\n",
        "print(f\"My friend name is {name} and his age is {age}.\")"
      ],
      "metadata": {
        "colab": {
          "base_uri": "https://localhost:8080/"
        },
        "id": "6NDQkd1yfCAN",
        "outputId": "f24cd779-be0f-4437-aea0-a9b2ee5cb1b6"
      },
      "execution_count": 16,
      "outputs": [
        {
          "output_type": "stream",
          "name": "stdout",
          "text": [
            "My friend name is Ali and his age is 44.\n"
          ]
        }
      ]
    },
    {
      "cell_type": "code",
      "source": [
        "# User Define\n",
        "name = input(\"Enter your name: \")\n",
        "age = int(input(\"Enter your age: \"))\n",
        "print(name,age)"
      ],
      "metadata": {
        "colab": {
          "base_uri": "https://localhost:8080/"
        },
        "id": "O4oN2zaKo8rf",
        "outputId": "3aec661c-26b5-4579-f3ec-8819fe29f786"
      },
      "execution_count": 17,
      "outputs": [
        {
          "output_type": "stream",
          "name": "stdout",
          "text": [
            "Enter your name: Mustjab\n",
            "Enter your age: 44\n",
            "Mustjab 44\n"
          ]
        }
      ]
    },
    {
      "cell_type": "code",
      "source": [
        "name = input(\"Enter your name : \")\n",
        "age = int(input(\"Enter your age : \"))\n",
        "city = input(\"Enter your city : \")\n",
        "print(f\"My friend name is {name} and his age is {age}.He is living in {city}.\")"
      ],
      "metadata": {
        "colab": {
          "base_uri": "https://localhost:8080/"
        },
        "id": "YDiTcP7MtjCK",
        "outputId": "3f769085-b481-4804-d7c3-3f08af1bfa81"
      },
      "execution_count": 18,
      "outputs": [
        {
          "output_type": "stream",
          "name": "stdout",
          "text": [
            "Enter your name : Hyder\n",
            "Enter your age : 67\n",
            "Enter your city : Rawalpindi\n",
            "My friend name is Hyder and his age is 67.He is living in Rawalpindi.\n"
          ]
        }
      ]
    },
    {
      "cell_type": "code",
      "source": [],
      "metadata": {
        "id": "VvTMyNZRt2mt"
      },
      "execution_count": 18,
      "outputs": []
    }
  ]
}