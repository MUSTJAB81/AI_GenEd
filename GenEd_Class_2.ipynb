{
  "nbformat": 4,
  "nbformat_minor": 0,
  "metadata": {
    "colab": {
      "provenance": [],
      "authorship_tag": "ABX9TyOpn9DCX3FiWHeHR8zGhS33",
      "include_colab_link": true
    },
    "kernelspec": {
      "name": "python3",
      "display_name": "Python 3"
    },
    "language_info": {
      "name": "python"
    }
  },
  "cells": [
    {
      "cell_type": "markdown",
      "metadata": {
        "id": "view-in-github",
        "colab_type": "text"
      },
      "source": [
        "<a href=\"https://colab.research.google.com/github/MUSTJAB81/AI_GenEd/blob/master/GenEd_Class_2.ipynb\" target=\"_parent\"><img src=\"https://colab.research.google.com/assets/colab-badge.svg\" alt=\"Open In Colab\"/></a>"
      ]
    },
    {
      "cell_type": "markdown",
      "source": [
        "**Topics Session 2**\n",
        "\n",
        "- Type casting\n",
        "- Type conversion\n",
        "- formatic String\n",
        "- input funcation"
      ],
      "metadata": {
        "id": "OM77SmmOYEFL"
      }
    },
    {
      "cell_type": "markdown",
      "source": [
        "**Task: Age in Days Calculator**\n",
        "\n",
        "Ask the user to enter their name.\n",
        "\n",
        "Ask the user to enter their age (in years).\n",
        "\n",
        "Convert the entered age into days (assuming 1 year = 365 days).\n",
        "\n",
        "Display a message formatted with their name and age in days."
      ],
      "metadata": {
        "id": "jKtXSwoKYmAH"
      }
    },
    {
      "cell_type": "code",
      "source": [
        "# user input for age and name\n",
        "name = input(\"Enter your name: \")\n",
        "age = int(input(\"Enter your age: \"))\n",
        "converter = f\"Your age is {age * 365} days\"\n",
        "print(f\"Hello {name}! {converter}\")"
      ],
      "metadata": {
        "colab": {
          "base_uri": "https://localhost:8080/"
        },
        "id": "U6jMcL3mYrNJ",
        "outputId": "4983fbe8-1beb-4269-b596-627f296ea1ac"
      },
      "execution_count": null,
      "outputs": [
        {
          "output_type": "stream",
          "name": "stdout",
          "text": [
            "Enter your name: Mustjab\n",
            "Enter your age: 44\n",
            "Hello Mustjab! Your age is 16060 days\n"
          ]
        }
      ]
    },
    {
      "cell_type": "code",
      "source": [
        "# using format() funcation\n",
        "name = input(\"Enter your name: \")\n",
        "age = int(input(\"Enter your age: \"))\n",
        "converter = f\"Your age is {age * 365} days\"\n",
        "print(\"Hello {}! {}\".format(name, converter))"
      ],
      "metadata": {
        "colab": {
          "base_uri": "https://localhost:8080/"
        },
        "id": "vXRgRuh3ZD_X",
        "outputId": "e071c53c-343d-4928-fc47-fc488f9074df"
      },
      "execution_count": null,
      "outputs": [
        {
          "output_type": "stream",
          "name": "stdout",
          "text": [
            "Enter your name: Hyder\n",
            "Enter your age: 32\n",
            "Hello Hyder! Your age is 11680 days\n"
          ]
        }
      ]
    },
    {
      "cell_type": "code",
      "source": [
        "# using format() funcation and give implicit vaiable position\n",
        "name = input(\"Enter your name: \")\n",
        "age = int(input(\"Enter your age: \"))\n",
        "converter = f\"Your age is {age * 365} days\"\n",
        "print(\"Hello {0}! {1}\".format(name, converter))"
      ],
      "metadata": {
        "colab": {
          "base_uri": "https://localhost:8080/"
        },
        "id": "f7LLqkNCZ7sx",
        "outputId": "0cadc304-7446-444f-e0da-cbd5150b301b"
      },
      "execution_count": null,
      "outputs": [
        {
          "output_type": "stream",
          "name": "stdout",
          "text": [
            "Enter your name: Hyder\n",
            "Enter your age: 22\n",
            "Hello Hyder! Your age is 8030 days\n"
          ]
        }
      ]
    },
    {
      "cell_type": "code",
      "source": [
        "# using format() funcation and give implicit vaiable position\n",
        "name = input(\"Enter your name: \")\n",
        "age = int(input(\"Enter your age: \"))\n",
        "converter = \"Your age is \" + int(age * 365) + \" days\"\n",
        "print(\"Hello {0}! {1}\".format(name, converter))"
      ],
      "metadata": {
        "colab": {
          "base_uri": "https://localhost:8080/",
          "height": 228
        },
        "id": "iXjRYp_gajYf",
        "outputId": "725c3b32-f7da-429f-a823-e5fdb448de36"
      },
      "execution_count": null,
      "outputs": [
        {
          "name": "stdout",
          "output_type": "stream",
          "text": [
            "Enter your name: Ali\n",
            "Enter your age: 56\n"
          ]
        },
        {
          "output_type": "error",
          "ename": "TypeError",
          "evalue": "can only concatenate str (not \"int\") to str",
          "traceback": [
            "\u001b[0;31m---------------------------------------------------------------------------\u001b[0m",
            "\u001b[0;31mTypeError\u001b[0m                                 Traceback (most recent call last)",
            "\u001b[0;32m<ipython-input-7-42b3b582e5d5>\u001b[0m in \u001b[0;36m<cell line: 0>\u001b[0;34m()\u001b[0m\n\u001b[1;32m      2\u001b[0m \u001b[0mname\u001b[0m \u001b[0;34m=\u001b[0m \u001b[0minput\u001b[0m\u001b[0;34m(\u001b[0m\u001b[0;34m\"Enter your name: \"\u001b[0m\u001b[0;34m)\u001b[0m\u001b[0;34m\u001b[0m\u001b[0;34m\u001b[0m\u001b[0m\n\u001b[1;32m      3\u001b[0m \u001b[0mage\u001b[0m \u001b[0;34m=\u001b[0m \u001b[0mint\u001b[0m\u001b[0;34m(\u001b[0m\u001b[0minput\u001b[0m\u001b[0;34m(\u001b[0m\u001b[0;34m\"Enter your age: \"\u001b[0m\u001b[0;34m)\u001b[0m\u001b[0;34m)\u001b[0m\u001b[0;34m\u001b[0m\u001b[0;34m\u001b[0m\u001b[0m\n\u001b[0;32m----> 4\u001b[0;31m \u001b[0mconverter\u001b[0m \u001b[0;34m=\u001b[0m \u001b[0;34m\"Your age is \"\u001b[0m \u001b[0;34m+\u001b[0m \u001b[0mint\u001b[0m\u001b[0;34m(\u001b[0m\u001b[0mage\u001b[0m \u001b[0;34m*\u001b[0m \u001b[0;36m365\u001b[0m\u001b[0;34m)\u001b[0m \u001b[0;34m+\u001b[0m \u001b[0;34m\" days\"\u001b[0m\u001b[0;34m\u001b[0m\u001b[0;34m\u001b[0m\u001b[0m\n\u001b[0m\u001b[1;32m      5\u001b[0m \u001b[0mprint\u001b[0m\u001b[0;34m(\u001b[0m\u001b[0;34m\"Hello {0}! {1}\"\u001b[0m\u001b[0;34m.\u001b[0m\u001b[0mformat\u001b[0m\u001b[0;34m(\u001b[0m\u001b[0mname\u001b[0m\u001b[0;34m,\u001b[0m \u001b[0mconverter\u001b[0m\u001b[0;34m)\u001b[0m\u001b[0;34m)\u001b[0m\u001b[0;34m\u001b[0m\u001b[0;34m\u001b[0m\u001b[0m\n",
            "\u001b[0;31mTypeError\u001b[0m: can only concatenate str (not \"int\") to str"
          ]
        }
      ]
    },
    {
      "cell_type": "code",
      "source": [
        "# using format() funcation and give implicit vaiable position\n",
        "name = input(\"Enter your name: \")\n",
        "age = int(input(\"Enter your age: \"))\n",
        "converter = \"Your age is \" + str(age * 365) + \" days\"\n",
        "\n",
        "print(\"Hello {0}! {1}\".format(name, converter))"
      ],
      "metadata": {
        "colab": {
          "base_uri": "https://localhost:8080/"
        },
        "id": "_7dpVuKUbKjv",
        "outputId": "411ac21d-d287-4a99-9c97-1ce6d28e5399"
      },
      "execution_count": null,
      "outputs": [
        {
          "output_type": "stream",
          "name": "stdout",
          "text": [
            "Enter your name: Asad Khan\n",
            "Enter your age: 78\n",
            "Hello Asad Khan! Your age is 28470 days\n"
          ]
        }
      ]
    },
    {
      "cell_type": "code",
      "source": [],
      "metadata": {
        "id": "ufVF-vyLbnBM"
      },
      "execution_count": null,
      "outputs": []
    }
  ]
}